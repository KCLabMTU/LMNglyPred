{
 "cells": [
  {
   "cell_type": "markdown",
   "id": "a8955c43",
   "metadata": {},
   "source": [
    "# The independent test set result \n",
    "\n",
    "# Positive taken from DeepNGlyPred Dataset \n",
    "\n",
    "# Negative taken from Endoplasmic Reticulum, Golgi Apparatus (GA), Cell Membrane (Cm), Extracellular (Ex) where GA, Cm, and Ex negative sites have RSA > 0.5 "
   ]
  },
  {
   "cell_type": "code",
   "execution_count": 1,
   "id": "161c81ec",
   "metadata": {},
   "outputs": [],
   "source": [
    "import pandas as pd\n",
    "import numpy as np\n",
    "import os\n",
    "import tensorflow as tf\n",
    "from sklearn.metrics import confusion_matrix\n",
    "from sklearn.metrics import matthews_corrcoef\n",
    "from sklearn.metrics import accuracy_score\n",
    "from sklearn.metrics import classification_report"
   ]
  },
  {
   "cell_type": "markdown",
   "id": "86d605ea",
   "metadata": {},
   "source": [
    "**Traverse to working directory where the files are stored**"
   ]
  },
  {
   "cell_type": "code",
   "execution_count": 2,
   "id": "6e55c4a0",
   "metadata": {},
   "outputs": [],
   "source": [
    "basedir = \"/home/t326h379/Cell_Mem_ER_Extrac_Protein\"\n",
    "os.chdir(basedir)"
   ]
  },
  {
   "cell_type": "code",
   "execution_count": 3,
   "id": "05232003",
   "metadata": {},
   "outputs": [],
   "source": [
    "df_test = pd.read_csv(\"df_indepenent_test_again_done_that_has_unique_protein_and_unique_sequence.csv\")"
   ]
  },
  {
   "cell_type": "code",
   "execution_count": 4,
   "id": "e01f7bc0",
   "metadata": {},
   "outputs": [
    {
     "data": {
      "text/plain": [
       "0    1648\n",
       "1     830\n",
       "Name: label, dtype: int64"
      ]
     },
     "execution_count": 4,
     "metadata": {},
     "output_type": "execute_result"
    }
   ],
   "source": [
    "df_test[\"label\"].value_counts()"
   ]
  },
  {
   "cell_type": "code",
   "execution_count": 6,
   "id": "c844050d",
   "metadata": {},
   "outputs": [
    {
     "name": "stdout",
     "output_type": "stream",
     "text": [
      "(2478, 1024) (2478,)\n"
     ]
    }
   ],
   "source": [
    "y_independent = np.array(df_test[\"label\"])\n",
    "\n",
    "df_test = df_test.iloc[:,5:]\n",
    "X_independent = np.array(df_test)\n",
    "\n",
    "print(X_independent.shape,y_independent.shape)"
   ]
  },
  {
   "cell_type": "code",
   "execution_count": 7,
   "id": "e8b142de",
   "metadata": {},
   "outputs": [],
   "source": [
    "model = tf.keras.models.load_model(\"Final_GlycoBiology_ANN_Glycobiology_ER_RSA(GA_Extracell_cellmem)187.h5\")"
   ]
  },
  {
   "cell_type": "code",
   "execution_count": 8,
   "id": "b69e3253",
   "metadata": {},
   "outputs": [
    {
     "name": "stdout",
     "output_type": "stream",
     "text": [
      "Model: \"sequential_187\"\n",
      "_________________________________________________________________\n",
      "Layer (type)                 Output Shape              Param #   \n",
      "=================================================================\n",
      "dense_374 (Dense)            (None, 64)                65600     \n",
      "_________________________________________________________________\n",
      "dropout_187 (Dropout)        (None, 64)                0         \n",
      "_________________________________________________________________\n",
      "dense_375 (Dense)            (None, 2)                 130       \n",
      "=================================================================\n",
      "Total params: 65,730\n",
      "Trainable params: 65,730\n",
      "Non-trainable params: 0\n",
      "_________________________________________________________________\n"
     ]
    }
   ],
   "source": [
    "model.summary()"
   ]
  },
  {
   "cell_type": "code",
   "execution_count": 9,
   "id": "d678d567",
   "metadata": {},
   "outputs": [
    {
     "name": "stdout",
     "output_type": "stream",
     "text": [
      "1648_Matthews Correlation :  0.49599922865235846\n",
      "\n",
      "Confusion Matrix : \n",
      " [[1242  406]\n",
      " [ 195  635]]\n",
      "\n",
      "Accuracy on test set:    0.7574656981436643\n",
      "\n",
      "Sensitivity:  0.7650602409638554\n",
      "\n",
      "Specificity: 0.7536407766990292\n",
      "\n",
      "Precision:  0.6099903938520653\n",
      "\n",
      "              precision    recall  f1-score   support\n",
      "\n",
      "           0       0.86      0.75      0.81      1648\n",
      "           1       0.61      0.77      0.68       830\n",
      "\n",
      "    accuracy                           0.76      2478\n",
      "   macro avg       0.74      0.76      0.74      2478\n",
      "weighted avg       0.78      0.76      0.76      2478\n",
      "\n"
     ]
    }
   ],
   "source": [
    "Y_pred = model.predict(X_independent)\n",
    "Y_pred = (Y_pred > 0.5)\n",
    "y_pred = [np.argmax(y, axis=None, out=None) for y in Y_pred]\n",
    "y_pred = np.array(y_pred)\n",
    "\n",
    "cm = confusion_matrix(y_independent, y_pred)\n",
    "\n",
    "print(\"1648_Matthews Correlation : \",matthews_corrcoef(y_independent, y_pred))\n",
    "print()\n",
    "print(\"Confusion Matrix : \\n\",cm)\n",
    "print()\n",
    "print(\"Accuracy on test set:   \",accuracy_score(y_independent, y_pred))\n",
    "print()\n",
    "\n",
    "\n",
    "TP = cm[1][1]\n",
    "TN = cm[0][0]\n",
    "FP = cm[0][1]\n",
    "FN = cm[1][0]\n",
    "\n",
    "mcc = matthews_corrcoef(y_independent, y_pred)\n",
    "\n",
    "Sensitivity = TP/(TP+FN)\n",
    "\n",
    "Specificity = TN/(TN+FP)\n",
    "\n",
    "Precision = TP / (TP + FP)\n",
    "\n",
    "print(f\"Sensitivity:  {Sensitivity}\")\n",
    "\n",
    "print()\n",
    "\n",
    "print(f\"Specificity: {Specificity}\")\n",
    "\n",
    "print()\n",
    "\n",
    "print(f\"Precision:  {Precision}\")\n",
    "\n",
    "print()\n",
    "\n",
    "print(classification_report(y_independent, y_pred))"
   ]
  },
  {
   "cell_type": "markdown",
   "id": "0252ccfb",
   "metadata": {},
   "source": [
    "# There is no redundant protein in training set and independent test set"
   ]
  },
  {
   "cell_type": "code",
   "execution_count": 14,
   "id": "4b1fbc71",
   "metadata": {},
   "outputs": [
    {
     "name": "stdout",
     "output_type": "stream",
     "text": [
      "0    15860\n",
      "1     8405\n",
      "Name: label, dtype: int64\n"
     ]
    }
   ],
   "source": [
    "import numpy as np\n",
    "\n",
    "df = pd.read_csv(\"df_train_data_without_indepenent_test_and_protein.csv\")\n",
    "\n",
    "print(df[\"label\"].value_counts())"
   ]
  },
  {
   "cell_type": "code",
   "execution_count": 11,
   "id": "001033ad",
   "metadata": {},
   "outputs": [],
   "source": [
    "Training_Protein_ID = set(df[\"PID\"])"
   ]
  },
  {
   "cell_type": "code",
   "execution_count": 12,
   "id": "cc540ea9",
   "metadata": {},
   "outputs": [],
   "source": [
    "df_test = pd.read_csv(\"df_indepenent_test_again_done_that_has_unique_protein_and_unique_sequence.csv\")\n",
    "Independent_Test_Set_Protein_ID = set(df_test[\"PID\"])"
   ]
  },
  {
   "cell_type": "code",
   "execution_count": 13,
   "id": "5c469b36",
   "metadata": {},
   "outputs": [
    {
     "data": {
      "text/plain": [
       "set()"
      ]
     },
     "execution_count": 13,
     "metadata": {},
     "output_type": "execute_result"
    }
   ],
   "source": [
    "Training_Protein_ID.intersection(Independent_Test_Set_Protein_ID)"
   ]
  },
  {
   "cell_type": "markdown",
   "id": "218c2bd3",
   "metadata": {},
   "source": [
    "# There is no redundant protein in training set and independent test set"
   ]
  },
  {
   "cell_type": "code",
   "execution_count": 15,
   "id": "deed5f95",
   "metadata": {},
   "outputs": [],
   "source": [
    "Training_Protein_Sequence = set(df[\"Sequence\"])"
   ]
  },
  {
   "cell_type": "code",
   "execution_count": 16,
   "id": "199b1f9c",
   "metadata": {},
   "outputs": [],
   "source": [
    "Independent_Test_Set_Sequence = set(df_test[\"Sequence\"])"
   ]
  },
  {
   "cell_type": "code",
   "execution_count": 17,
   "id": "2d3ace9b",
   "metadata": {},
   "outputs": [
    {
     "data": {
      "text/plain": [
       "set()"
      ]
     },
     "execution_count": 17,
     "metadata": {},
     "output_type": "execute_result"
    }
   ],
   "source": [
    "Training_Protein_Sequence.intersection(Independent_Test_Set_Sequence)"
   ]
  },
  {
   "cell_type": "markdown",
   "id": "ede4d200",
   "metadata": {},
   "source": [
    "# Thank You"
   ]
  }
 ],
 "metadata": {
  "kernelspec": {
   "display_name": "Python 3.7.4-TensorFlow-2.3.1 [jupyter_python]",
   "language": "python",
   "name": "sys_python_3.7.4-tensorflow-2.3.1"
  },
  "language_info": {
   "codemirror_mode": {
    "name": "ipython",
    "version": 3
   },
   "file_extension": ".py",
   "mimetype": "text/x-python",
   "name": "python",
   "nbconvert_exporter": "python",
   "pygments_lexer": "ipython3",
   "version": "3.7.4"
  }
 },
 "nbformat": 4,
 "nbformat_minor": 5
}
