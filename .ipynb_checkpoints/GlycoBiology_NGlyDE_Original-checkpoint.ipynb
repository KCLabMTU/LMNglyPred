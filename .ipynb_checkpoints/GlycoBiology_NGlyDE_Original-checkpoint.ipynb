{
 "cells": [
  {
   "cell_type": "code",
   "execution_count": 1,
   "id": "efecfaa8",
   "metadata": {},
   "outputs": [],
   "source": [
    "import pandas as pd\n",
    "import numpy as np\n",
    "import os\n",
    "import tensorflow as tf\n",
    "from sklearn.metrics import confusion_matrix\n",
    "from sklearn.metrics import matthews_corrcoef\n",
    "from sklearn.metrics import accuracy_score\n",
    "from sklearn.metrics import classification_report\n",
    "import os    "
   ]
  },
  {
   "cell_type": "markdown",
   "id": "b006dac0",
   "metadata": {},
   "source": [
    "# Load the trained model"
   ]
  },
  {
   "cell_type": "code",
   "execution_count": 3,
   "id": "1fc5b023",
   "metadata": {},
   "outputs": [],
   "source": [
    "model = tf.keras.models.load_model(\"models/Undersampling_Glycobiology_NGLYDE_Final6947757.h5\")"
   ]
  },
  {
   "cell_type": "code",
   "execution_count": 4,
   "id": "8f21e43c",
   "metadata": {},
   "outputs": [
    {
     "name": "stdout",
     "output_type": "stream",
     "text": [
      "Model: \"sequential_8\"\n",
      "_________________________________________________________________\n",
      "Layer (type)                 Output Shape              Param #   \n",
      "=================================================================\n",
      "Dense_1 (Dense)              (None, 64)                65600     \n",
      "_________________________________________________________________\n",
      "dropout_8 (Dropout)          (None, 64)                0         \n",
      "_________________________________________________________________\n",
      "Dense_4 (Dense)              (None, 2)                 130       \n",
      "=================================================================\n",
      "Total params: 65,730\n",
      "Trainable params: 65,730\n",
      "Non-trainable params: 0\n",
      "_________________________________________________________________\n"
     ]
    }
   ],
   "source": [
    "model.summary()"
   ]
  },
  {
   "cell_type": "code",
   "execution_count": 5,
   "id": "a8007be7",
   "metadata": {},
   "outputs": [
    {
     "name": "stdout",
     "output_type": "stream",
     "text": [
      "444\n",
      "(444, 1024) (444,)\n"
     ]
    }
   ],
   "source": [
    "Header_name = [\"Label\",\"PID\",\"POsition\",\"Sequence\",\"Middle_Amino_Acid_ASN(N)\"]\n",
    "\n",
    "col_of_feature = [i for i in range(1,1025)]\n",
    "\n",
    "Header_name = Header_name + col_of_feature\n",
    "\n",
    "df_test = pd.read_csv(\"data/Independent_Test_Set_Prot_T5_feature_Aug_12.txt\", header=None)\n",
    "\n",
    "df_test.columns = Header_name\n",
    "\n",
    "df_test_123 = df_test\n",
    "\n",
    "df_test = df_test.iloc[:,5:]\n",
    "X_independent = np.array(df_test)\n",
    "\n",
    "y_test_indi_positive = [1]*166\n",
    "y_test_indi_negative = [0]*(444-166)\n",
    "y_independent = y_test_indi_positive+y_test_indi_negative\n",
    "y_independent = np.array(y_independent)\n",
    "print(len(y_independent))\n",
    "\n",
    "print(X_independent.shape,y_independent.shape)"
   ]
  },
  {
   "cell_type": "code",
   "execution_count": 6,
   "id": "8fcdf17e",
   "metadata": {},
   "outputs": [
    {
     "name": "stdout",
     "output_type": "stream",
     "text": [
      "\n",
      "Matthews Correlation :  0.7179072287551853\n",
      "\n",
      "Confusion Matrix : \n",
      " [[262  16]\n",
      " [ 42 124]]\n",
      "\n",
      "Accuracy on test set:    0.8693693693693694\n",
      "\n",
      "Sensitivity:    0.7469879518072289 \t Specificity:    0.9424460431654677\n",
      "\n",
      "              precision    recall  f1-score   support\n",
      "\n",
      "           0       0.86      0.94      0.90       278\n",
      "           1       0.89      0.75      0.81       166\n",
      "\n",
      "    accuracy                           0.87       444\n",
      "   macro avg       0.87      0.84      0.86       444\n",
      "weighted avg       0.87      0.87      0.87       444\n",
      "\n"
     ]
    }
   ],
   "source": [
    "Y_pred = model.predict(X_independent)\n",
    "Y_pred = (Y_pred > 0.5)\n",
    "y_pred = [np.argmax(y, axis=None, out=None) for y in Y_pred]\n",
    "y_pred = np.array(y_pred)\n",
    "print()\n",
    "print(\"Matthews Correlation : \",matthews_corrcoef(y_independent, y_pred),end=\"\\n\\n\")\n",
    "print(\"Confusion Matrix : \\n\",confusion_matrix(y_independent, y_pred),end=\"\\n\\n\")\n",
    "print(\"Accuracy on test set:   \",accuracy_score(y_independent, y_pred),end=\"\\n\\n\")\n",
    "\n",
    "cm = confusion_matrix(y_independent, y_pred)\n",
    "\n",
    "TP = cm[1][1]\n",
    "TN = cm[0][0]\n",
    "FP = cm[0][1]\n",
    "FN = cm[1][0]\n",
    "\n",
    "mcc = matthews_corrcoef(y_independent, y_pred)\n",
    "\n",
    "Sensitivity = TP/(TP+FN)\n",
    "\n",
    "Specificity = TN/(TN+FP)\n",
    "\n",
    "print(\"Sensitivity:   \",Sensitivity,\"\\t\",\"Specificity:   \",Specificity,end=\"\\n\\n\")\n",
    "\n",
    "print(classification_report(y_independent, y_pred))"
   ]
  },
  {
   "cell_type": "markdown",
   "id": "296ec74c",
   "metadata": {},
   "source": [
    "# Train"
   ]
  },
  {
   "cell_type": "code",
   "execution_count": 7,
   "id": "e247ea57",
   "metadata": {},
   "outputs": [],
   "source": [
    "df = pd.read_csv(\"data/Subash_August_8_2022_NGlyDE_Prot_T5_feature.txt\", header=None)\n",
    "\n",
    "df.columns = Header_name\n",
    "\n",
    "df_123 = df"
   ]
  },
  {
   "cell_type": "code",
   "execution_count": 8,
   "id": "8652af92",
   "metadata": {},
   "outputs": [],
   "source": [
    "train_pid = set(df_123[\"PID\"])"
   ]
  },
  {
   "cell_type": "markdown",
   "id": "35b3115f",
   "metadata": {},
   "source": [
    "# Test"
   ]
  },
  {
   "cell_type": "code",
   "execution_count": 9,
   "id": "921c59a6",
   "metadata": {},
   "outputs": [],
   "source": [
    "test_pid = set(df_test_123[\"PID\"])"
   ]
  },
  {
   "cell_type": "code",
   "execution_count": 10,
   "id": "07b4b73a",
   "metadata": {},
   "outputs": [
    {
     "data": {
      "text/plain": [
       "set()"
      ]
     },
     "execution_count": 10,
     "metadata": {},
     "output_type": "execute_result"
    }
   ],
   "source": [
    "test_pid.intersection(train_pid)"
   ]
  }
 ],
 "metadata": {
  "kernelspec": {
   "display_name": "Python 3 (ipykernel)",
   "language": "python",
   "name": "python3"
  },
  "language_info": {
   "codemirror_mode": {
    "name": "ipython",
    "version": 3
   },
   "file_extension": ".py",
   "mimetype": "text/x-python",
   "name": "python",
   "nbconvert_exporter": "python",
   "pygments_lexer": "ipython3",
   "version": "3.9.7"
  }
 },
 "nbformat": 4,
 "nbformat_minor": 5
}
