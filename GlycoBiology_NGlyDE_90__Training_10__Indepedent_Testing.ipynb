{
 "cells": [
  {
   "cell_type": "code",
   "execution_count": 1,
   "id": "e75938de",
   "metadata": {},
   "outputs": [],
   "source": [
    "import pandas as pd\n",
    "import numpy as np\n",
    "import os\n",
    "import tensorflow as tf\n",
    "from sklearn.metrics import confusion_matrix\n",
    "from sklearn.metrics import matthews_corrcoef\n",
    "from sklearn.metrics import accuracy_score\n",
    "from sklearn.metrics import classification_report\n",
    "import os    "
   ]
  },
  {
   "cell_type": "markdown",
   "id": "f0348501",
   "metadata": {},
   "source": [
    "# Load the Model"
   ]
  },
  {
   "cell_type": "code",
   "execution_count": 2,
   "id": "49528c5d",
   "metadata": {},
   "outputs": [],
   "source": [
    "model = tf.keras.models.load_model(\"models/NGlyDE_Prot_T5_Final.h5\")"
   ]
  },
  {
   "cell_type": "code",
   "execution_count": 3,
   "id": "69f319a6",
   "metadata": {},
   "outputs": [
    {
     "name": "stdout",
     "output_type": "stream",
     "text": [
      "Matthews Correlation :  0.6858429433354859\n",
      "\n",
      "Confusion Matrix : \n",
      " [[ 71  29]\n",
      " [ 12 190]]\n",
      "\n",
      "Accuracy on test set: 0.86\n",
      "\n",
      "Sensitivity:  0.94\n",
      "\n",
      "Specificity: 0.71\n",
      "\n",
      "Precision:  0.87\n",
      "\n",
      "              precision    recall  f1-score   support\n",
      "\n",
      "           0       0.86      0.71      0.78       100\n",
      "           1       0.87      0.94      0.90       202\n",
      "\n",
      "    accuracy                           0.86       302\n",
      "   macro avg       0.86      0.83      0.84       302\n",
      "weighted avg       0.86      0.86      0.86       302\n",
      "\n"
     ]
    }
   ],
   "source": [
    "Header_name = [\"label\",\"PID\",\"Position\",\"Sequence\",\"Middle_Amino_Acid_ASN(N)\"]\n",
    "\n",
    "col_of_feature = [i for i in range(1,1025)]\n",
    "\n",
    "Header_name = Header_name + col_of_feature\n",
    "\n",
    "df_test = pd.read_csv(\"data/Glycobiology_NGlyDE_Independent_Positive_202_Negative_100.csv\", header=None)\n",
    "\n",
    "df_test_test = df_test\n",
    "\n",
    "df_test.columns = Header_name\n",
    "\n",
    "df_test = df_test.iloc[:,5:]\n",
    "X_independent = np.array(df_test)\n",
    "\n",
    "y_test_indi_positive = [1]*202\n",
    "y_test_indi_negative = [0]*100\n",
    "y_independent = y_test_indi_positive+y_test_indi_negative\n",
    "y_independent = np.array(y_independent)\n",
    "\n",
    "\n",
    "Y_pred = model.predict(X_independent)\n",
    "Y_pred = (Y_pred > 0.5)\n",
    "y_pred = [np.argmax(y, axis=None, out=None) for y in Y_pred]\n",
    "y_pred = np.array(y_pred)\n",
    "\n",
    "cm = confusion_matrix(y_independent, y_pred)\n",
    "\n",
    "print(\"Matthews Correlation : \",matthews_corrcoef(y_independent, y_pred))\n",
    "print()\n",
    "print(\"Confusion Matrix : \\n\",cm)\n",
    "print()\n",
    "acc = accuracy_score(y_independent, y_pred)\n",
    "print(f\"Accuracy on test set: {acc:.2f}\")\n",
    "print()\n",
    "\n",
    "\n",
    "TP = cm[1][1]\n",
    "TN = cm[0][0]\n",
    "FP = cm[0][1]\n",
    "FN = cm[1][0]\n",
    "\n",
    "mcc = matthews_corrcoef(y_independent, y_pred)\n",
    "\n",
    "Sensitivity = TP/(TP+FN)\n",
    "\n",
    "Specificity = TN/(TN+FP)\n",
    "\n",
    "Precision = TP / (TP + FP)\n",
    "\n",
    "print(f\"Sensitivity:  {Sensitivity:.2f}\")\n",
    "\n",
    "print()\n",
    "\n",
    "print(f\"Specificity: {Specificity:.2f}\")\n",
    "\n",
    "print()\n",
    "\n",
    "print(f\"Precision:  {Precision:.2f}\")\n",
    "\n",
    "print()\n",
    "\n",
    "print(classification_report(y_independent, y_pred))"
   ]
  },
  {
   "cell_type": "markdown",
   "id": "71012a86",
   "metadata": {},
   "source": [
    "# No Peptide Identity between training and testing sites"
   ]
  },
  {
   "cell_type": "code",
   "execution_count": 10,
   "id": "dceae57e",
   "metadata": {},
   "outputs": [],
   "source": [
    "\n",
    "Header_name = [\"label\",\"PID\",\"Position\",\"Sequence\",\"Middle_Amino_Acid_ASN(N)\"]\n",
    "\n",
    "col_of_feature = [i for i in range(1,1025)]\n",
    "\n",
    "Header_name = Header_name + col_of_feature\n",
    "\n",
    "df = pd.read_csv(\"data/Glycobiology_NGlyDE_Training_Positive_1821_Negative_901.csv\",header=None)\n",
    "\n",
    "df.columns = Header_name"
   ]
  },
  {
   "cell_type": "code",
   "execution_count": 12,
   "id": "8a428a0f",
   "metadata": {},
   "outputs": [],
   "source": [
    "training_sequence = set(df[\"Sequence\"])"
   ]
  },
  {
   "cell_type": "code",
   "execution_count": 18,
   "id": "d9e7887c",
   "metadata": {},
   "outputs": [],
   "source": [
    "testing_sequence = set(df_test_test[\"Sequence\"])"
   ]
  },
  {
   "cell_type": "code",
   "execution_count": 20,
   "id": "c66cf78a",
   "metadata": {},
   "outputs": [
    {
     "data": {
      "text/plain": [
       "set()"
      ]
     },
     "execution_count": 20,
     "metadata": {},
     "output_type": "execute_result"
    }
   ],
   "source": [
    "training_sequence.intersection(testing_sequence)"
   ]
  }
 ],
 "metadata": {
  "kernelspec": {
   "display_name": "Python 3 (ipykernel)",
   "language": "python",
   "name": "python3"
  },
  "language_info": {
   "codemirror_mode": {
    "name": "ipython",
    "version": 3
   },
   "file_extension": ".py",
   "mimetype": "text/x-python",
   "name": "python",
   "nbconvert_exporter": "python",
   "pygments_lexer": "ipython3",
   "version": "3.9.7"
  }
 },
 "nbformat": 4,
 "nbformat_minor": 5
}
